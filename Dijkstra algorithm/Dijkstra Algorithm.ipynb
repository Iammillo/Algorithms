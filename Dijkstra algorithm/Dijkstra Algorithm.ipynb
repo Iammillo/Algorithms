{
 "cells": [
  {
   "cell_type": "code",
   "execution_count": 1,
   "metadata": {},
   "outputs": [],
   "source": [
    "import pandas as pd\n",
    "import math"
   ]
  },
  {
   "cell_type": "code",
   "execution_count": 2,
   "metadata": {},
   "outputs": [],
   "source": [
    "#read the graph from graph.csv and source vertex\n",
    "df = pd.read_csv('graph.csv')\n",
    "source_vertex = \"c\""
   ]
  },
  {
   "cell_type": "code",
   "execution_count": 10,
   "metadata": {},
   "outputs": [],
   "source": [
    "# this function provides cost from a to b\n",
    "def weight(a,b):\n",
    "    x = float(df[df['columns']==a][b])\n",
    "    if math.isnan(x):\n",
    "        return float('inf')\n",
    "    else:\n",
    "        return x"
   ]
  },
  {
   "cell_type": "code",
   "execution_count": 4,
   "metadata": {},
   "outputs": [],
   "source": [
    "# this stores the status of each vertex during execution of algorithm. It is in the form [cost,parent].\n",
    "# Initially cost is initialized to infinity and parent to \"Null\"\n",
    "vertices = {}\n",
    "for i in df.columns[1:]:\n",
    "    vertices[i]=[float(\"inf\"),\"Null\"]"
   ]
  },
  {
   "cell_type": "code",
   "execution_count": 11,
   "metadata": {},
   "outputs": [],
   "source": [
    "# This function helps to make above dictionary vertices a min prioriry queue. When dictionary v is given input, \n",
    "#it pops the vertex with minimum value\n",
    "def pop(v):\n",
    "    keys= v.keys()\n",
    "    value = float('inf')\n",
    "    vert = None\n",
    "    par = None\n",
    "\n",
    "    for k in keys:\n",
    "        if v[k][0]<value:\n",
    "            vert = k\n",
    "            value= v[k][0]\n",
    "            par = v[k][1]\n",
    "    \n",
    "    del v[vert]\n",
    "    return (v,vert,value,par)\n",
    "            "
   ]
  },
  {
   "cell_type": "code",
   "execution_count": 6,
   "metadata": {},
   "outputs": [],
   "source": [
    "# It is a dictionary in which final solution is stored when each vertex reaches to final solution\n",
    "solution={}"
   ]
  },
  {
   "cell_type": "code",
   "execution_count": 7,
   "metadata": {},
   "outputs": [],
   "source": [
    "# The source vertex is initialized to zero\n",
    "vertices[source_vertex]=[0,source_vertex]"
   ]
  },
  {
   "cell_type": "code",
   "execution_count": 8,
   "metadata": {},
   "outputs": [],
   "source": [
    "#The actual algorithm runs here. We have to run the loop for every vertex and inside each loop,\n",
    "#we have to check for all remaining vertex in the loop. Thus, the O(n) complexity of this algorithms is n^2 \n",
    "# where n is number of vertices\n",
    "\n",
    "while vertices:\n",
    "    vertices,*x = pop(vertices)\n",
    "    solution[x[0]]=x[1:]\n",
    "    for i in list(vertices.keys()):\n",
    "        if(vertices[i][0]>(weight(x[0],i)+x[1])):\n",
    "            vertices[i][0] = weight(x[0],i)+x[1]\n",
    "            vertices[i][1]=x[0]"
   ]
  },
  {
   "cell_type": "code",
   "execution_count": 18,
   "metadata": {},
   "outputs": [
    {
     "name": "stdout",
     "output_type": "stream",
     "text": [
      "vertex a==1.0==ca\n",
      "vertex b==4.0==cab\n",
      "vertex c==0==c\n",
      "vertex d==2.0==cd\n",
      "vertex e==5.0==cabe\n"
     ]
    }
   ],
   "source": [
    "# This is simply the display of solution calculated by above algorithm in appropriate form\n",
    "k = sorted(list(solution.keys()))\n",
    "for i in k:\n",
    "    print(f\"vertex {i}=={solution[i][0]}==\",end=\"\")\n",
    "    current = i\n",
    "    s = \"\"\n",
    "    while current != source_vertex:\n",
    "        s = s+current\n",
    "        current = solution[current][1]\n",
    "    s = s+source_vertex\n",
    "    print(s[::-1])"
   ]
  },
  {
   "cell_type": "code",
   "execution_count": null,
   "metadata": {},
   "outputs": [],
   "source": []
  }
 ],
 "metadata": {
  "kernelspec": {
   "display_name": "Python 3",
   "language": "python",
   "name": "python3"
  },
  "language_info": {
   "codemirror_mode": {
    "name": "ipython",
    "version": 3
   },
   "file_extension": ".py",
   "mimetype": "text/x-python",
   "name": "python",
   "nbconvert_exporter": "python",
   "pygments_lexer": "ipython3",
   "version": "3.6.8"
  }
 },
 "nbformat": 4,
 "nbformat_minor": 2
}
